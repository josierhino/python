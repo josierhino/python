{
 "cells": [
  {
   "cell_type": "markdown",
   "id": "b8408dfe",
   "metadata": {},
   "source": [
    "## Automatic File Sorter in File Explorer ##"
   ]
  },
  {
   "cell_type": "code",
   "execution_count": 2,
   "id": "85d5d5e9",
   "metadata": {},
   "outputs": [],
   "source": [
    "import os, shutil\n",
    "\n",
    "# shutil allows for high level operations "
   ]
  },
  {
   "cell_type": "code",
   "execution_count": 13,
   "id": "32a8ef58",
   "metadata": {},
   "outputs": [],
   "source": [
    "path = r'C:/Users/Chang/Downloads/Python Tutorials/'\n",
    "\n",
    "#placing r before the path(a string) converts it to raw text"
   ]
  },
  {
   "cell_type": "code",
   "execution_count": 16,
   "id": "5318c46a",
   "metadata": {},
   "outputs": [],
   "source": [
    "file_name = os.listdir(path)\n",
    "\n",
    "#shows files in the path"
   ]
  },
  {
   "cell_type": "code",
   "execution_count": 15,
   "id": "ceaaf52b",
   "metadata": {},
   "outputs": [
    {
     "name": "stdout",
     "output_type": "stream",
     "text": [
      "C:/Users/Chang/Downloads/Python Tutorials/text files\n"
     ]
    }
   ],
   "source": [
    "folder_names = ['csv files', 'image files', 'text files']\n",
    "\n",
    "for loop in range(0,3):\n",
    "    if not os.path.exists(path + folder_names[loop]):\n",
    "        print(path + folder_names[loop])\n",
    "        os.makedirs((path + folder_names[loop]))\n",
    "for file in file_name:\n",
    "    if \".csv\" in file and not os.path.exists(path + \"csv files/\" + file):\n",
    "        shutil.move(path + file, path + \"csv files/\" + file)\n",
    "    elif \".png\" in file and not os.path.exists(path + \"image files/\" + file):\n",
    "        shutil.move(path + file, path + \"image files/\" + file)\n",
    "    elif \".txt\" in file and not os.path.exists(path + \"text files/\" + file):\n",
    "        shutil.move(path + file, path + \"text files/\" + file)"
   ]
  },
  {
   "cell_type": "code",
   "execution_count": 18,
   "id": "4cae280c",
   "metadata": {},
   "outputs": [],
   "source": []
  },
  {
   "cell_type": "code",
   "execution_count": null,
   "id": "86166244",
   "metadata": {},
   "outputs": [],
   "source": []
  }
 ],
 "metadata": {
  "kernelspec": {
   "display_name": "Python 3 (ipykernel)",
   "language": "python",
   "name": "python3"
  },
  "language_info": {
   "codemirror_mode": {
    "name": "ipython",
    "version": 3
   },
   "file_extension": ".py",
   "mimetype": "text/x-python",
   "name": "python",
   "nbconvert_exporter": "python",
   "pygments_lexer": "ipython3",
   "version": "3.11.3"
  }
 },
 "nbformat": 4,
 "nbformat_minor": 5
}
